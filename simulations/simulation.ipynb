{
  "nbformat": 4,
  "nbformat_minor": 0,
  "metadata": {
    "colab": {
      "name": "simulation.ipynb",
      "provenance": [],
      "authorship_tag": "ABX9TyM/fXIWw0xV8ZMkGWQK+zki",
      "include_colab_link": true
    },
    "kernelspec": {
      "name": "python3",
      "display_name": "Python 3"
    },
    "language_info": {
      "name": "python"
    }
  },
  "cells": [
    {
      "cell_type": "markdown",
      "metadata": {
        "id": "view-in-github",
        "colab_type": "text"
      },
      "source": [
        "<a href=\"https://colab.research.google.com/github/hamusita/master_research/blob/main/simulation.ipynb\" target=\"_parent\"><img src=\"https://colab.research.google.com/assets/colab-badge.svg\" alt=\"Open In Colab\"/></a>"
      ]
    },
    {
      "cell_type": "code",
      "metadata": {
        "colab": {
          "base_uri": "https://localhost:8080/"
        },
        "id": "baOgkF8uIaTH",
        "outputId": "81c5cffc-f74f-451e-9836-7caf93340a99"
      },
      "source": [
        "from google.colab import drive\n",
        "drive.mount('/content/drive')"
      ],
      "execution_count": null,
      "outputs": [
        {
          "output_type": "stream",
          "name": "stdout",
          "text": [
            "Mounted at /content/drive\n"
          ]
        }
      ]
    },
    {
      "cell_type": "code",
      "metadata": {
        "id": "YC_hFEW3Ij_q"
      },
      "source": [
        "import sys\n",
        "sys.path.append('/content/drive/My Drive/research4jaist') "
      ],
      "execution_count": null,
      "outputs": []
    },
    {
      "cell_type": "markdown",
      "metadata": {
        "id": "HgGqEdi-GyWf"
      },
      "source": [
        "# research memo"
      ]
    },
    {
      "cell_type": "markdown",
      "metadata": {
        "id": "9D3mjrJNGujF"
      },
      "source": [
        "### simulation 1\n",
        "note p1"
      ]
    },
    {
      "cell_type": "code",
      "metadata": {
        "id": "sAz67s-XGtiP"
      },
      "source": [
        "import numpy as np\n",
        "import pandas as pd"
      ],
      "execution_count": null,
      "outputs": []
    },
    {
      "cell_type": "code",
      "metadata": {
        "id": "L8qPtHW_Inob"
      },
      "source": [
        "df = pd.read_csv(\"/content/drive/My Drive/research4jaist/WiFi_data_csv/hefeinan_190707_channel1_0000.csv\", low_memory=False)"
      ],
      "execution_count": null,
      "outputs": []
    },
    {
      "cell_type": "code",
      "metadata": {
        "colab": {
          "base_uri": "https://localhost:8080/",
          "height": 396
        },
        "id": "WuPANKQKJmjr",
        "outputId": "e770a3e2-ac9f-4aa7-a7b3-43122c2a0c11"
      },
      "source": [
        "df.head(10)"
      ],
      "execution_count": null,
      "outputs": [
        {
          "output_type": "execute_result",
          "data": {
            "text/html": [
              "<div>\n",
              "<style scoped>\n",
              "    .dataframe tbody tr th:only-of-type {\n",
              "        vertical-align: middle;\n",
              "    }\n",
              "\n",
              "    .dataframe tbody tr th {\n",
              "        vertical-align: top;\n",
              "    }\n",
              "\n",
              "    .dataframe thead th {\n",
              "        text-align: right;\n",
              "    }\n",
              "</style>\n",
              "<table border=\"1\" class=\"dataframe\">\n",
              "  <thead>\n",
              "    <tr style=\"text-align: right;\">\n",
              "      <th></th>\n",
              "      <th>frame.number</th>\n",
              "      <th>_ws.col.Time</th>\n",
              "      <th>wlan.sa</th>\n",
              "      <th>wlan.da</th>\n",
              "      <th>frame.len</th>\n",
              "      <th>wlan_radio.duration</th>\n",
              "      <th>frame.time_delta</th>\n",
              "      <th>wlan_radio.data_rate</th>\n",
              "      <th>wlan_radio.signal_dbm</th>\n",
              "      <th>wlan_radio.channel</th>\n",
              "      <th>wlan_radio.phy</th>\n",
              "      <th>wlan.fc.type_subtype</th>\n",
              "      <th>Unnamed: 12</th>\n",
              "      <th>Unnamed: 13</th>\n",
              "      <th>Unnamed: 14</th>\n",
              "      <th>Unnamed: 15</th>\n",
              "    </tr>\n",
              "  </thead>\n",
              "  <tbody>\n",
              "    <tr>\n",
              "      <th>0</th>\n",
              "      <td>1</td>\n",
              "      <td>09:34:42</td>\n",
              "      <td>bc:e2:65:35:7e:52</td>\n",
              "      <td>ff:ff:ff:ff:ff:ff</td>\n",
              "      <td>249</td>\n",
              "      <td>1984</td>\n",
              "      <td>0</td>\n",
              "      <td>1</td>\n",
              "      <td>-69.0</td>\n",
              "      <td>1.0</td>\n",
              "      <td>6.0</td>\n",
              "      <td>8.0</td>\n",
              "      <td>NaN</td>\n",
              "      <td>NaN</td>\n",
              "      <td>NaN</td>\n",
              "      <td>NaN</td>\n",
              "    </tr>\n",
              "    <tr>\n",
              "      <th>1</th>\n",
              "      <td>2</td>\n",
              "      <td>09:34:42</td>\n",
              "      <td>d4:61:da:9b:4f:32</td>\n",
              "      <td>bc:e2:65:35:7e:52</td>\n",
              "      <td>53</td>\n",
              "      <td>32</td>\n",
              "      <td>0.01377</td>\n",
              "      <td>24</td>\n",
              "      <td>-55.0</td>\n",
              "      <td>1.0</td>\n",
              "      <td>6.0</td>\n",
              "      <td>36.0</td>\n",
              "      <td>NaN</td>\n",
              "      <td>NaN</td>\n",
              "      <td>NaN</td>\n",
              "      <td>NaN</td>\n",
              "    </tr>\n",
              "    <tr>\n",
              "      <th>2</th>\n",
              "      <td>3</td>\n",
              "      <td>09:34:42</td>\n",
              "      <td>NaN</td>\n",
              "      <td>NaN</td>\n",
              "      <td>39</td>\n",
              "      <td>28</td>\n",
              "      <td>0.000059</td>\n",
              "      <td>24</td>\n",
              "      <td>-61.0</td>\n",
              "      <td>1.0</td>\n",
              "      <td>6.0</td>\n",
              "      <td>29.0</td>\n",
              "      <td>NaN</td>\n",
              "      <td>NaN</td>\n",
              "      <td>NaN</td>\n",
              "      <td>NaN</td>\n",
              "    </tr>\n",
              "    <tr>\n",
              "      <th>3</th>\n",
              "      <td>4</td>\n",
              "      <td>09:34:42</td>\n",
              "      <td>10:51:72:e8:1f:9c</td>\n",
              "      <td>ff:ff:ff:ff:ff:ff</td>\n",
              "      <td>228</td>\n",
              "      <td>1816</td>\n",
              "      <td>0.01884</td>\n",
              "      <td>1</td>\n",
              "      <td>-64.0</td>\n",
              "      <td>1.0</td>\n",
              "      <td>6.0</td>\n",
              "      <td>8.0</td>\n",
              "      <td>NaN</td>\n",
              "      <td>NaN</td>\n",
              "      <td>NaN</td>\n",
              "      <td>NaN</td>\n",
              "    </tr>\n",
              "    <tr>\n",
              "      <th>4</th>\n",
              "      <td>5</td>\n",
              "      <td>09:34:42</td>\n",
              "      <td>d4:61:da:9b:4f:32</td>\n",
              "      <td>bc:e2:65:35:7e:52</td>\n",
              "      <td>53</td>\n",
              "      <td>32</td>\n",
              "      <td>0.02612</td>\n",
              "      <td>24</td>\n",
              "      <td>-55.0</td>\n",
              "      <td>1.0</td>\n",
              "      <td>6.0</td>\n",
              "      <td>36.0</td>\n",
              "      <td>NaN</td>\n",
              "      <td>NaN</td>\n",
              "      <td>NaN</td>\n",
              "      <td>NaN</td>\n",
              "    </tr>\n",
              "    <tr>\n",
              "      <th>5</th>\n",
              "      <td>6</td>\n",
              "      <td>09:34:42</td>\n",
              "      <td>d4:61:da:9b:4f:32</td>\n",
              "      <td>bc:e2:65:35:7e:52</td>\n",
              "      <td>53</td>\n",
              "      <td>32</td>\n",
              "      <td>0.000057</td>\n",
              "      <td>24</td>\n",
              "      <td>-55.0</td>\n",
              "      <td>1.0</td>\n",
              "      <td>6.0</td>\n",
              "      <td>36.0</td>\n",
              "      <td>NaN</td>\n",
              "      <td>NaN</td>\n",
              "      <td>NaN</td>\n",
              "      <td>NaN</td>\n",
              "    </tr>\n",
              "    <tr>\n",
              "      <th>6</th>\n",
              "      <td>7</td>\n",
              "      <td>09:34:42</td>\n",
              "      <td>NaN</td>\n",
              "      <td>NaN</td>\n",
              "      <td>39</td>\n",
              "      <td>28</td>\n",
              "      <td>0.000054</td>\n",
              "      <td>24</td>\n",
              "      <td>-61.0</td>\n",
              "      <td>1.0</td>\n",
              "      <td>6.0</td>\n",
              "      <td>29.0</td>\n",
              "      <td>NaN</td>\n",
              "      <td>NaN</td>\n",
              "      <td>NaN</td>\n",
              "      <td>NaN</td>\n",
              "    </tr>\n",
              "    <tr>\n",
              "      <th>7</th>\n",
              "      <td>8</td>\n",
              "      <td>09:34:42</td>\n",
              "      <td>bc:e2:65:35:7e:52</td>\n",
              "      <td>ff:ff:ff:ff:ff:ff</td>\n",
              "      <td>249</td>\n",
              "      <td>1984</td>\n",
              "      <td>0.043478</td>\n",
              "      <td>1</td>\n",
              "      <td>-69.0</td>\n",
              "      <td>1.0</td>\n",
              "      <td>6.0</td>\n",
              "      <td>8.0</td>\n",
              "      <td>NaN</td>\n",
              "      <td>NaN</td>\n",
              "      <td>NaN</td>\n",
              "      <td>NaN</td>\n",
              "    </tr>\n",
              "    <tr>\n",
              "      <th>8</th>\n",
              "      <td>9</td>\n",
              "      <td>09:34:43</td>\n",
              "      <td>10:51:72:e8:1f:9c</td>\n",
              "      <td>ff:ff:ff:ff:ff:ff</td>\n",
              "      <td>228</td>\n",
              "      <td>1816</td>\n",
              "      <td>0.032687</td>\n",
              "      <td>1</td>\n",
              "      <td>-64.0</td>\n",
              "      <td>1.0</td>\n",
              "      <td>6.0</td>\n",
              "      <td>8.0</td>\n",
              "      <td>NaN</td>\n",
              "      <td>NaN</td>\n",
              "      <td>NaN</td>\n",
              "      <td>NaN</td>\n",
              "    </tr>\n",
              "    <tr>\n",
              "      <th>9</th>\n",
              "      <td>10</td>\n",
              "      <td>09:34:43</td>\n",
              "      <td>d4:61:da:9b:4f:32</td>\n",
              "      <td>bc:e2:65:35:7e:52</td>\n",
              "      <td>53</td>\n",
              "      <td>32</td>\n",
              "      <td>0.059878</td>\n",
              "      <td>24</td>\n",
              "      <td>-55.0</td>\n",
              "      <td>1.0</td>\n",
              "      <td>6.0</td>\n",
              "      <td>36.0</td>\n",
              "      <td>NaN</td>\n",
              "      <td>NaN</td>\n",
              "      <td>NaN</td>\n",
              "      <td>NaN</td>\n",
              "    </tr>\n",
              "  </tbody>\n",
              "</table>\n",
              "</div>"
            ],
            "text/plain": [
              "   frame.number _ws.col.Time  ... Unnamed: 14 Unnamed: 15\n",
              "0             1     09:34:42  ...         NaN         NaN\n",
              "1             2     09:34:42  ...         NaN         NaN\n",
              "2             3     09:34:42  ...         NaN         NaN\n",
              "3             4     09:34:42  ...         NaN         NaN\n",
              "4             5     09:34:42  ...         NaN         NaN\n",
              "5             6     09:34:42  ...         NaN         NaN\n",
              "6             7     09:34:42  ...         NaN         NaN\n",
              "7             8     09:34:42  ...         NaN         NaN\n",
              "8             9     09:34:43  ...         NaN         NaN\n",
              "9            10     09:34:43  ...         NaN         NaN\n",
              "\n",
              "[10 rows x 16 columns]"
            ]
          },
          "metadata": {},
          "execution_count": 7
        }
      ]
    },
    {
      "cell_type": "code",
      "metadata": {
        "id": "zVdp1jLZJ7YT"
      },
      "source": [
        ""
      ],
      "execution_count": null,
      "outputs": []
    }
  ]
}